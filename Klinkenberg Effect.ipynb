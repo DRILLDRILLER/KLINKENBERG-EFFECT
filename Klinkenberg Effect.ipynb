{
 "cells": [
  {
   "cell_type": "markdown",
   "id": "70f43e0d-0219-4d44-a07a-c4aee8bf2a28",
   "metadata": {},
   "source": [
    "### Klinkenberg Effect "
   ]
  },
  {
   "cell_type": "markdown",
   "id": "8ce897b5-d5f5-4845-bae8-104a6ad3e147",
   "metadata": {},
   "source": [
    "$k(g) == k(l) + c(1/pm)$\n",
    "\n",
    "where kg = measured gas permeability\n",
    "pm = mean pressure\n",
    "kL = equivalent liquid permeability, i.e., absolute permeability, k\n",
    "c = slope of the line\n",
    "\n",
    "$ c = b.k(l) = 6.9 k(l)^(-0.36)$\n",
    "\n",
    "where kL = equivalent liquid permeability, i.e., absolute permeability, k\n",
    "b = constant that depends on the size of the pore openings and\n",
    "is inversely proportional to radius of capillaries.\n",
    "\n",
    "$ 6.9(k_l)^(0.64) +p_m*k_l -p_m*k_g = 0$\n",
    "\n",
    "$f'(k_l) = 4.416k(l)^(-0.36) +pm $"
   ]
  },
  {
   "cell_type": "code",
   "execution_count": 6,
   "id": "ff9c3657-54df-4a3a-8454-2ba4431ea5c1",
   "metadata": {},
   "outputs": [
    {
     "name": "stdin",
     "output_type": "stream",
     "text": [
      "Enter the measured gas permeability 50\n",
      "Enter the mean pressure across the core 60\n",
      "Enter the initial guess of absolute permeability 30\n"
     ]
    },
    {
     "name": "stdout",
     "output_type": "stream",
     "text": [
      "The final value of absolute permeabilty k is: 48.61881255228079 \n"
     ]
    }
   ],
   "source": [
    "kg = float(input(\"Enter the measured gas permeability\"))\n",
    "pm = float(input(\"Enter the mean pressure across the core\"))\n",
    "k = float(input(\"Enter the initial guess of absolute permeability\"))\n",
    "\n",
    "while (abs(6.9*k**0.64+pm*k-pm*kg))>0:\n",
    "    \n",
    "    k = k-((6.9*k**0.64+pm*k-pm*kg)/(4.416*(k**(-0.36)) +pm))\n",
    "\n",
    "print(f'The final value of absolute permeabilty k is: {k} ')"
   ]
  },
  {
   "cell_type": "markdown",
   "id": "a470ccec-ee61-4366-b5ab-1d8e84459e71",
   "metadata": {},
   "source": [
    "### Example\n",
    "\n",
    "The permeability of a core plug is measured by air. Only one measurement is made at a mean pressure of 2.152 psi. The air permeability is\n",
    "46.6 md. Estimate the absolute permeability of the core sample. Compare\n",
    "the result with the actual absolute permeability of 23.66 md."
   ]
  },
  {
   "cell_type": "code",
   "execution_count": 8,
   "id": "a383b5a6-2eb5-4aa6-b139-252fb27b5685",
   "metadata": {},
   "outputs": [
    {
     "name": "stdin",
     "output_type": "stream",
     "text": [
      "Enter the measured gas permeability 50\n",
      "Enter the mean pressure across the core 60\n",
      "Enter the initial guess of absolute permeability 2\n"
     ]
    },
    {
     "name": "stdout",
     "output_type": "stream",
     "text": [
      "The final value of absolute permeabilty k is: 48.618812552279635 \n",
      "The % Error is: 51.335709866302295\n"
     ]
    }
   ],
   "source": [
    "kg = float(input(\"Enter the measured gas permeability\"))\n",
    "pm = float(input(\"Enter the mean pressure across the core\"))\n",
    "k = float(input(\"Enter the initial guess of absolute permeability\"))\n",
    "\n",
    "while (abs(6.9*k**0.64+pm*k-pm*kg))>0.00000001:\n",
    "    \n",
    "    k = k-((6.9*k**0.64+pm*k-pm*kg)/(4.416*(k**(-0.36)) +pm))\n",
    "\n",
    "print(f'The final value of absolute permeabilty k is: {k} ')\n",
    "\n",
    "print(f'The % Error is: {100*abs((k-23.66)/k)}')"
   ]
  }
 ],
 "metadata": {
  "kernelspec": {
   "display_name": "Python 3 (ipykernel)",
   "language": "python",
   "name": "python3"
  },
  "language_info": {
   "codemirror_mode": {
    "name": "ipython",
    "version": 3
   },
   "file_extension": ".py",
   "mimetype": "text/x-python",
   "name": "python",
   "nbconvert_exporter": "python",
   "pygments_lexer": "ipython3",
   "version": "3.12.7"
  }
 },
 "nbformat": 4,
 "nbformat_minor": 5
}
